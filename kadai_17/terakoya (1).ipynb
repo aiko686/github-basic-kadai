{
  "nbformat": 4,
  "nbformat_minor": 0,
  "metadata": {
    "colab": {
      "provenance": []
    },
    "kernelspec": {
      "name": "python3",
      "display_name": "Python 3"
    },
    "language_info": {
      "name": "python"
    }
  },
  "cells": [
    {
      "cell_type": "code",
      "execution_count": 1,
      "metadata": {
        "id": "zh4tvc1X782d",
        "colab": {
          "base_uri": "https://localhost:8080/"
        },
        "outputId": "c8eb9ce6-3825-4953-8858-bd72f7fb5038"
      },
      "outputs": [
        {
          "output_type": "stream",
          "name": "stdout",
          "text": [
            "Aliceは大人です。\n",
            "Bobは大人ではありません。\n",
            "Charlieは大人です。\n",
            "Daisyは大人ではありません。\n"
          ]
        }
      ],
      "source": [
        "class Human:\n",
        "    def __init__(self, name, age):\n",
        "        self.name = name\n",
        "        self.age = age\n",
        "\n",
        "    def check_adult(self):\n",
        "        if self.age >= 20:\n",
        "            print(f\"{self.name}は大人です。\")\n",
        "        else:\n",
        "            print(f\"{self.name}は大人ではありません。\")\n",
        "\n",
        "people = [\n",
        "    Human(\"Alice\", 25),\n",
        "    Human(\"Bob\", 17),\n",
        "    Human(\"Charlie\", 30),\n",
        "    Human(\"Daisy\", 18)\n",
        "]\n",
        "\n",
        "for person in people:\n",
        "    person.check_adult()\n"
      ]
    }
  ]
}