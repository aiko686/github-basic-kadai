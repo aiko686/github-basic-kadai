{
  "nbformat": 4,
  "nbformat_minor": 0,
  "metadata": {
    "colab": {
      "provenance": []
    },
    "kernelspec": {
      "name": "python3",
      "display_name": "Python 3"
    },
    "language_info": {
      "name": "python"
    }
  },
  "cells": [
    {
      "cell_type": "code",
      "execution_count": 2,
      "metadata": {
        "id": "S9N8Xb1t7EKN",
        "colab": {
          "base_uri": "https://localhost:8080/"
        },
        "outputId": "04ecc97b-b8ba-4566-eb0b-db00c6e475b0"
      },
      "outputs": [
        {
          "output_type": "stream",
          "name": "stdout",
          "text": [
            "Name: Alice, Age: 22\n",
            "Name: Bob, Age: 18\n",
            "Name: Charlie, Age: 30\n"
          ]
        }
      ],
      "source": [
        "class Human:\n",
        "    def __init__(self, name, age):\n",
        "        self.name = name\n",
        "        self.age = age\n",
        "\n",
        "    def printinfo(self):\n",
        "        print(f\"Name: {self.name}, Age: {self.age}\")\n",
        "\n",
        "\n",
        "humans = [\n",
        "    Human(\"Alice\", 22),\n",
        "    Human(\"Bob\", 18),\n",
        "    Human(\"Charlie\", 30)\n",
        "]\n",
        "\n",
        "for human in humans:\n",
        "    human.printinfo()"
      ]
    }
  ]
}