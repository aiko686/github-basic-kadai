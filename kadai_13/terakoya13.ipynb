{
  "nbformat": 4,
  "nbformat_minor": 0,
  "metadata": {
    "colab": {
      "provenance": []
    },
    "kernelspec": {
      "name": "python3",
      "display_name": "Python 3"
    },
    "language_info": {
      "name": "python"
    }
  },
  "cells": [
    {
      "cell_type": "code",
      "execution_count": 1,
      "metadata": {
        "id": "OvnPlGEU4tN6"
      },
      "outputs": [],
      "source": [
        "def k_price(price, shouhizei=0.10):\n",
        "    total_price = price * (1 + shouhizei)\n",
        "    return total_price\n"
      ]
    }
  ]
}