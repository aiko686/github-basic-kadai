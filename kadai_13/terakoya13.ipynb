{
  "nbformat": 4,
  "nbformat_minor": 0,
  "metadata": {
    "colab": {
      "provenance": []
    },
    "kernelspec": {
      "name": "python3",
      "display_name": "Python 3"
    },
    "language_info": {
      "name": "python"
    }
  },
  "cells": [
    {
      "cell_type": "code",
      "execution_count": 6,
      "metadata": {
        "id": "OvnPlGEU4tN6",
        "colab": {
          "base_uri": "https://localhost:8080/"
        },
        "outputId": "968e2270-a06b-4258-db68-a637b216efd4"
      },
      "outputs": [
        {
          "output_type": "stream",
          "name": "stdout",
          "text": [
            "1100.0\n"
          ]
        }
      ],
      "source": [
        "def k_price(price, shouhizei=0.10):\n",
        "    total_price = price * (1 + shouhizei)\n",
        "    return total_price\n",
        "\n",
        "price = 1000\n",
        "x =k_price (price)\n",
        "print(x)\n",
        "\n"
      ]
    }
  ]
}